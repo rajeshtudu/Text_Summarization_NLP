{
 "cells": [
  {
   "cell_type": "code",
   "execution_count": 1,
   "id": "3e5dc27d",
   "metadata": {},
   "outputs": [],
   "source": [
    "# input text article\n",
    "article_text = '''Iraq has hanged three people convicted of involvement in a vehicle bombing in Baghdad that killed more than 300 people and injured hundreds in 2016.\n",
    "\n",
    "It was the deadliest single bombing in Iraq since the US-led invasion in 2003.\n",
    "\n",
    "The Islamic State group (IS) said it had carried out the attack.\n",
    "\n",
    "Prime Minister Mohammed Shia al-Sudani's office did not name those executed or say when they had been sentenced. The executions were carried out on Sunday and Monday, it said.\n",
    "\n",
    "A government source told AFP news agency that Ghazwan al-Zawbaee, held to be the IS mastermind behind the attack, was among those put to death. Zawbaee had been captured and returned to Iraq in 2021.\n",
    "\n",
    "The prime minister informed victims' families that \"the rightful punishment of death sentence\" had been carried out against \"three key criminals found guilty of their involvement in the terrorist bombing\", his office said.\n",
    "\n",
    "On 3 July 2016 a vehicle filled with explosives was blown up next to a crowded shopping centre in Karrada, a mainly Shia Muslim area of the Iraqi capital.\n",
    "\n",
    "People had been enjoying a night out after breaking their daily fasts for the Islamic holy month of Ramadan.\n",
    "\n",
    "Many of the victims were killed by a fire that ripped through the building after the bomb blast.\n",
    "\n",
    "Interior Minister Mohammed Ghabban resigned in the wake of the blast.\n",
    "\n",
    "The then-Prime Minister, Mustafa al-Kadhimi, accused Zawbaee of being the \"primary culprit\" behind that attack and \"many others\".\n",
    "\n",
    "IS, a Sunni Muslim group, once controlled 88,000 sq km (34,000 sq miles) of territory stretching from eastern Iraq to western Syria and imposed its brutal rule on almost eight million people.\n",
    "\n",
    "Despite the group's defeat on the battlefield in Iraq in 2017 and in Syria two years later, it is estimated that thousands of militants remain active in both countries.\n",
    "\n",
    "In March, the UN estimated that IS still had \"5,000 to 7,000 members and supporters\" across Iraq and neighbouring Syria, \"roughly half of whom are fighters\".'''"
   ]
  },
  {
   "cell_type": "markdown",
   "id": "f79d3395",
   "metadata": {},
   "source": [
    "# Import Modules"
   ]
  },
  {
   "cell_type": "code",
   "execution_count": 2,
   "id": "713452f6",
   "metadata": {},
   "outputs": [
    {
     "name": "stderr",
     "output_type": "stream",
     "text": [
      "[nltk_data] Downloading package punkt to\n",
      "[nltk_data]     C:\\Users\\user\\AppData\\Roaming\\nltk_data...\n",
      "[nltk_data]   Package punkt is already up-to-date!\n",
      "[nltk_data] Downloading package stopwords to\n",
      "[nltk_data]     C:\\Users\\user\\AppData\\Roaming\\nltk_data...\n",
      "[nltk_data]   Package stopwords is already up-to-date!\n"
     ]
    },
    {
     "data": {
      "text/plain": [
       "True"
      ]
     },
     "execution_count": 2,
     "metadata": {},
     "output_type": "execute_result"
    }
   ],
   "source": [
    "import re\n",
    "import nltk\n",
    "nltk.download('punkt')\n",
    "nltk.download('stopwords')"
   ]
  },
  {
   "cell_type": "markdown",
   "id": "a7ceae63",
   "metadata": {},
   "source": [
    "# Data Preprocessing"
   ]
  },
  {
   "cell_type": "code",
   "execution_count": 3,
   "id": "f95c87f6",
   "metadata": {},
   "outputs": [
    {
     "data": {
      "text/plain": [
       "'iraq has hanged three people convicted of involvement in a vehicle bombing in baghdad that killed more than 300 people and injured hundreds in 2016.\\n\\nit was the deadliest single bombing in iraq since the us-led invasion in 2003.\\n\\nthe islamic state group (is) said it had carried out the attack.\\n\\nprime minister mohammed shia al-sudani\\'s office did not name those executed or say when they had been sentenced. the executions were carried out on sunday and monday, it said.\\n\\na government source told afp news agency that ghazwan al-zawbaee, held to be the is mastermind behind the attack, was among those put to death. zawbaee had been captured and returned to iraq in 2021.\\n\\nthe prime minister informed victims\\' families that \"the rightful punishment of death sentence\" had been carried out against \"three key criminals found guilty of their involvement in the terrorist bombing\", his office said.\\n\\non 3 july 2016 a vehicle filled with explosives was blown up next to a crowded shopping centre in karrada, a mainly shia muslim area of the iraqi capital.\\n\\npeople had been enjoying a night out after breaking their daily fasts for the islamic holy month of ramadan.\\n\\nmany of the victims were killed by a fire that ripped through the building after the bomb blast.\\n\\ninterior minister mohammed ghabban resigned in the wake of the blast.\\n\\nthe then-prime minister, mustafa al-kadhimi, accused zawbaee of being the \"primary culprit\" behind that attack and \"many others\".\\n\\nis, a sunni muslim group, once controlled 88,000 sq km (34,000 sq miles) of territory stretching from eastern iraq to western syria and imposed its brutal rule on almost eight million people.\\n\\ndespite the group\\'s defeat on the battlefield in iraq in 2017 and in syria two years later, it is estimated that thousands of militants remain active in both countries.\\n\\nin march, the un estimated that is still had \"5,000 to 7,000 members and supporters\" across iraq and neighbouring syria, \"roughly half of whom are fighters\".'"
      ]
     },
     "execution_count": 3,
     "metadata": {},
     "output_type": "execute_result"
    }
   ],
   "source": [
    "article_text = article_text.lower()\n",
    "article_text"
   ]
  },
  {
   "cell_type": "code",
   "execution_count": 4,
   "id": "302fc357",
   "metadata": {},
   "outputs": [
    {
     "data": {
      "text/plain": [
       "'iraq has hanged three people convicted of involvement in a vehicle bombing in baghdad that killed more than 300 people and injured hundreds in 2016. it was the deadliest single bombing in iraq since the us-led invasion in 2003. the islamic state group (is) said it had carried out the attack. prime minister mohammed shia al-sudani\\'s office did not name those executed or say when they had been sentenced. the executions were carried out on sunday and monday, it said. a government source told afp news agency that ghazwan al-zawbaee, held to be the is mastermind behind the attack, was among those put to death. zawbaee had been captured and returned to iraq in 2021. the prime minister informed victims\\' families that \"the rightful punishment of death sentence\" had been carried out against \"three key criminals found guilty of their involvement in the terrorist bombing\", his office said. on 3 july 2016 a vehicle filled with explosives was blown up next to a crowded shopping centre in karrada, a mainly shia muslim area of the iraqi capital. people had been enjoying a night out after breaking their daily fasts for the islamic holy month of ramadan. many of the victims were killed by a fire that ripped through the building after the bomb blast. interior minister mohammed ghabban resigned in the wake of the blast. the then-prime minister, mustafa al-kadhimi, accused zawbaee of being the \"primary culprit\" behind that attack and \"many others\". is, a sunni muslim group, once controlled 88,000 sq km (34,000 sq miles) of territory stretching from eastern iraq to western syria and imposed its brutal rule on almost eight million people. despite the group\\'s defeat on the battlefield in iraq in 2017 and in syria two years later, it is estimated that thousands of militants remain active in both countries. in march, the un estimated that is still had \"5,000 to 7,000 members and supporters\" across iraq and neighbouring syria, \"roughly half of whom are fighters\".'"
      ]
     },
     "execution_count": 4,
     "metadata": {},
     "output_type": "execute_result"
    }
   ],
   "source": [
    "# remove spaces, punctuations and numbers\n",
    "clean_text = re.sub('[^a-zA-Z]', ' ', article_text)\n",
    "clean_text = re.sub('\\s+', ' ', article_text)\n",
    "clean_text"
   ]
  },
  {
   "cell_type": "code",
   "execution_count": 5,
   "id": "d57a12ae",
   "metadata": {},
   "outputs": [
    {
     "data": {
      "text/plain": [
       "['iraq has hanged three people convicted of involvement in a vehicle bombing in baghdad that killed more than 300 people and injured hundreds in 2016.\\n\\nit was the deadliest single bombing in iraq since the us-led invasion in 2003.\\n\\nthe islamic state group (is) said it had carried out the attack.',\n",
       " \"prime minister mohammed shia al-sudani's office did not name those executed or say when they had been sentenced.\",\n",
       " 'the executions were carried out on sunday and monday, it said.',\n",
       " 'a government source told afp news agency that ghazwan al-zawbaee, held to be the is mastermind behind the attack, was among those put to death.',\n",
       " 'zawbaee had been captured and returned to iraq in 2021.\\n\\nthe prime minister informed victims\\' families that \"the rightful punishment of death sentence\" had been carried out against \"three key criminals found guilty of their involvement in the terrorist bombing\", his office said.',\n",
       " 'on 3 july 2016 a vehicle filled with explosives was blown up next to a crowded shopping centre in karrada, a mainly shia muslim area of the iraqi capital.',\n",
       " 'people had been enjoying a night out after breaking their daily fasts for the islamic holy month of ramadan.',\n",
       " 'many of the victims were killed by a fire that ripped through the building after the bomb blast.',\n",
       " 'interior minister mohammed ghabban resigned in the wake of the blast.',\n",
       " 'the then-prime minister, mustafa al-kadhimi, accused zawbaee of being the \"primary culprit\" behind that attack and \"many others\".',\n",
       " 'is, a sunni muslim group, once controlled 88,000 sq km (34,000 sq miles) of territory stretching from eastern iraq to western syria and imposed its brutal rule on almost eight million people.',\n",
       " \"despite the group's defeat on the battlefield in iraq in 2017 and in syria two years later, it is estimated that thousands of militants remain active in both countries.\",\n",
       " 'in march, the un estimated that is still had \"5,000 to 7,000 members and supporters\" across iraq and neighbouring syria, \"roughly half of whom are fighters\".']"
      ]
     },
     "execution_count": 5,
     "metadata": {},
     "output_type": "execute_result"
    }
   ],
   "source": [
    "# split inot sentence list\n",
    "sentence_list = nltk.sent_tokenize(article_text)\n",
    "sentence_list"
   ]
  },
  {
   "cell_type": "markdown",
   "id": "be4382e3",
   "metadata": {},
   "source": [
    "# Word Frequencies"
   ]
  },
  {
   "cell_type": "code",
   "execution_count": 6,
   "id": "7fc168ab",
   "metadata": {},
   "outputs": [],
   "source": [
    "stopwords = nltk.corpus.stopwords.words('english')\n",
    "\n",
    "word_frequencies = {}\n",
    "for word in nltk.word_tokenize(clean_text):\n",
    "    if word not in stopwords:\n",
    "        if word not in word_frequencies:\n",
    "            word_frequencies[word] = 1\n",
    "        else:\n",
    "            word_frequencies[word] += 1"
   ]
  },
  {
   "cell_type": "code",
   "execution_count": 7,
   "id": "176148ea",
   "metadata": {},
   "outputs": [],
   "source": [
    "maximum_frequency = max(word_frequencies.values())\n",
    "\n",
    "for word in word_frequencies:\n",
    "    word_frequencies[word] = word_frequencies[word] / maximum_frequency "
   ]
  },
  {
   "cell_type": "markdown",
   "id": "0c22f752",
   "metadata": {},
   "source": [
    "# Calculate Sentence Scores"
   ]
  },
  {
   "cell_type": "code",
   "execution_count": 8,
   "id": "f09b5262",
   "metadata": {},
   "outputs": [],
   "source": [
    "sentence_scores = {}\n",
    "\n",
    "for sentence in sentence_list:\n",
    "    for word in nltk.word_tokenize(sentence):\n",
    "        if word in word_frequencies and len(sentence.split(' ')) < 30:\n",
    "            if sentence not in sentence_scores:\n",
    "                sentence_scores[sentence] = word_frequencies[word]\n",
    "            else:\n",
    "                sentence_scores[sentence] += word_frequencies[word]"
   ]
  },
  {
   "cell_type": "code",
   "execution_count": 9,
   "id": "cc2335c6",
   "metadata": {},
   "outputs": [
    {
     "data": {
      "text/plain": [
       "{'iraq': 0.46153846153846156,\n",
       " 'hanged': 0.07692307692307693,\n",
       " 'three': 0.15384615384615385,\n",
       " 'people': 0.3076923076923077,\n",
       " 'convicted': 0.07692307692307693,\n",
       " 'involvement': 0.15384615384615385,\n",
       " 'vehicle': 0.15384615384615385,\n",
       " 'bombing': 0.23076923076923078,\n",
       " 'baghdad': 0.07692307692307693,\n",
       " 'killed': 0.15384615384615385,\n",
       " '300': 0.07692307692307693,\n",
       " 'injured': 0.07692307692307693,\n",
       " 'hundreds': 0.07692307692307693,\n",
       " '2016.': 0.07692307692307693,\n",
       " 'deadliest': 0.07692307692307693,\n",
       " 'single': 0.07692307692307693,\n",
       " 'since': 0.07692307692307693,\n",
       " 'us-led': 0.07692307692307693,\n",
       " 'invasion': 0.07692307692307693,\n",
       " '2003.': 0.07692307692307693,\n",
       " 'islamic': 0.15384615384615385,\n",
       " 'state': 0.07692307692307693,\n",
       " 'group': 0.23076923076923078,\n",
       " '(': 0.15384615384615385,\n",
       " ')': 0.15384615384615385,\n",
       " 'said': 0.23076923076923078,\n",
       " 'carried': 0.23076923076923078,\n",
       " 'attack': 0.23076923076923078,\n",
       " '.': 1.0,\n",
       " 'prime': 0.15384615384615385,\n",
       " 'minister': 0.3076923076923077,\n",
       " 'mohammed': 0.15384615384615385,\n",
       " 'shia': 0.15384615384615385,\n",
       " 'al-sudani': 0.07692307692307693,\n",
       " \"'s\": 0.15384615384615385,\n",
       " 'office': 0.15384615384615385,\n",
       " 'name': 0.07692307692307693,\n",
       " 'executed': 0.07692307692307693,\n",
       " 'say': 0.07692307692307693,\n",
       " 'sentenced': 0.07692307692307693,\n",
       " 'executions': 0.07692307692307693,\n",
       " 'sunday': 0.07692307692307693,\n",
       " 'monday': 0.07692307692307693,\n",
       " ',': 0.9230769230769231,\n",
       " 'government': 0.07692307692307693,\n",
       " 'source': 0.07692307692307693,\n",
       " 'told': 0.07692307692307693,\n",
       " 'afp': 0.07692307692307693,\n",
       " 'news': 0.07692307692307693,\n",
       " 'agency': 0.07692307692307693,\n",
       " 'ghazwan': 0.07692307692307693,\n",
       " 'al-zawbaee': 0.07692307692307693,\n",
       " 'held': 0.07692307692307693,\n",
       " 'mastermind': 0.07692307692307693,\n",
       " 'behind': 0.15384615384615385,\n",
       " 'among': 0.07692307692307693,\n",
       " 'put': 0.07692307692307693,\n",
       " 'death': 0.15384615384615385,\n",
       " 'zawbaee': 0.15384615384615385,\n",
       " 'captured': 0.07692307692307693,\n",
       " 'returned': 0.07692307692307693,\n",
       " '2021.': 0.07692307692307693,\n",
       " 'informed': 0.07692307692307693,\n",
       " 'victims': 0.15384615384615385,\n",
       " \"'\": 0.07692307692307693,\n",
       " 'families': 0.07692307692307693,\n",
       " '``': 0.46153846153846156,\n",
       " 'rightful': 0.07692307692307693,\n",
       " 'punishment': 0.07692307692307693,\n",
       " 'sentence': 0.07692307692307693,\n",
       " \"''\": 0.46153846153846156,\n",
       " 'key': 0.07692307692307693,\n",
       " 'criminals': 0.07692307692307693,\n",
       " 'found': 0.07692307692307693,\n",
       " 'guilty': 0.07692307692307693,\n",
       " 'terrorist': 0.07692307692307693,\n",
       " '3': 0.07692307692307693,\n",
       " 'july': 0.07692307692307693,\n",
       " '2016': 0.07692307692307693,\n",
       " 'filled': 0.07692307692307693,\n",
       " 'explosives': 0.07692307692307693,\n",
       " 'blown': 0.07692307692307693,\n",
       " 'next': 0.07692307692307693,\n",
       " 'crowded': 0.07692307692307693,\n",
       " 'shopping': 0.07692307692307693,\n",
       " 'centre': 0.07692307692307693,\n",
       " 'karrada': 0.07692307692307693,\n",
       " 'mainly': 0.07692307692307693,\n",
       " 'muslim': 0.15384615384615385,\n",
       " 'area': 0.07692307692307693,\n",
       " 'iraqi': 0.07692307692307693,\n",
       " 'capital': 0.07692307692307693,\n",
       " 'enjoying': 0.07692307692307693,\n",
       " 'night': 0.07692307692307693,\n",
       " 'breaking': 0.07692307692307693,\n",
       " 'daily': 0.07692307692307693,\n",
       " 'fasts': 0.07692307692307693,\n",
       " 'holy': 0.07692307692307693,\n",
       " 'month': 0.07692307692307693,\n",
       " 'ramadan': 0.07692307692307693,\n",
       " 'many': 0.15384615384615385,\n",
       " 'fire': 0.07692307692307693,\n",
       " 'ripped': 0.07692307692307693,\n",
       " 'building': 0.07692307692307693,\n",
       " 'bomb': 0.07692307692307693,\n",
       " 'blast': 0.15384615384615385,\n",
       " 'interior': 0.07692307692307693,\n",
       " 'ghabban': 0.07692307692307693,\n",
       " 'resigned': 0.07692307692307693,\n",
       " 'wake': 0.07692307692307693,\n",
       " 'then-prime': 0.07692307692307693,\n",
       " 'mustafa': 0.07692307692307693,\n",
       " 'al-kadhimi': 0.07692307692307693,\n",
       " 'accused': 0.07692307692307693,\n",
       " 'primary': 0.07692307692307693,\n",
       " 'culprit': 0.07692307692307693,\n",
       " 'others': 0.07692307692307693,\n",
       " 'sunni': 0.07692307692307693,\n",
       " 'controlled': 0.07692307692307693,\n",
       " '88,000': 0.07692307692307693,\n",
       " 'sq': 0.15384615384615385,\n",
       " 'km': 0.07692307692307693,\n",
       " '34,000': 0.07692307692307693,\n",
       " 'miles': 0.07692307692307693,\n",
       " 'territory': 0.07692307692307693,\n",
       " 'stretching': 0.07692307692307693,\n",
       " 'eastern': 0.07692307692307693,\n",
       " 'western': 0.07692307692307693,\n",
       " 'syria': 0.23076923076923078,\n",
       " 'imposed': 0.07692307692307693,\n",
       " 'brutal': 0.07692307692307693,\n",
       " 'rule': 0.07692307692307693,\n",
       " 'almost': 0.07692307692307693,\n",
       " 'eight': 0.07692307692307693,\n",
       " 'million': 0.07692307692307693,\n",
       " 'despite': 0.07692307692307693,\n",
       " 'defeat': 0.07692307692307693,\n",
       " 'battlefield': 0.07692307692307693,\n",
       " '2017': 0.07692307692307693,\n",
       " 'two': 0.07692307692307693,\n",
       " 'years': 0.07692307692307693,\n",
       " 'later': 0.07692307692307693,\n",
       " 'estimated': 0.15384615384615385,\n",
       " 'thousands': 0.07692307692307693,\n",
       " 'militants': 0.07692307692307693,\n",
       " 'remain': 0.07692307692307693,\n",
       " 'active': 0.07692307692307693,\n",
       " 'countries': 0.07692307692307693,\n",
       " 'march': 0.07692307692307693,\n",
       " 'un': 0.07692307692307693,\n",
       " 'still': 0.07692307692307693,\n",
       " '5,000': 0.07692307692307693,\n",
       " '7,000': 0.07692307692307693,\n",
       " 'members': 0.07692307692307693,\n",
       " 'supporters': 0.07692307692307693,\n",
       " 'across': 0.07692307692307693,\n",
       " 'neighbouring': 0.07692307692307693,\n",
       " 'roughly': 0.07692307692307693,\n",
       " 'half': 0.07692307692307693,\n",
       " 'fighters': 0.07692307692307693}"
      ]
     },
     "execution_count": 9,
     "metadata": {},
     "output_type": "execute_result"
    }
   ],
   "source": [
    "word_frequencies"
   ]
  },
  {
   "cell_type": "code",
   "execution_count": 10,
   "id": "d31d8288",
   "metadata": {},
   "outputs": [
    {
     "data": {
      "text/plain": [
       "{\"prime minister mohammed shia al-sudani's office did not name those executed or say when they had been sentenced.\": 2.4615384615384612,\n",
       " 'the executions were carried out on sunday and monday, it said.': 2.6153846153846154,\n",
       " 'a government source told afp news agency that ghazwan al-zawbaee, held to be the is mastermind behind the attack, was among those put to death.': 4.307692307692308,\n",
       " 'on 3 july 2016 a vehicle filled with explosives was blown up next to a crowded shopping centre in karrada, a mainly shia muslim area of the iraqi capital.': 3.5384615384615388,\n",
       " 'people had been enjoying a night out after breaking their daily fasts for the islamic holy month of ramadan.': 2.0769230769230766,\n",
       " 'many of the victims were killed by a fire that ripped through the building after the bomb blast.': 1.923076923076923,\n",
       " 'interior minister mohammed ghabban resigned in the wake of the blast.': 1.923076923076923,\n",
       " 'the then-prime minister, mustafa al-kadhimi, accused zawbaee of being the \"primary culprit\" behind that attack and \"many others\".': 6.230769230769232,\n",
       " \"despite the group's defeat on the battlefield in iraq in 2017 and in syria two years later, it is estimated that thousands of militants remain active in both countries.\": 4.0769230769230775,\n",
       " 'in march, the un estimated that is still had \"5,000 to 7,000 members and supporters\" across iraq and neighbouring syria, \"roughly half of whom are fighters\".': 6.461538461538462}"
      ]
     },
     "execution_count": 10,
     "metadata": {},
     "output_type": "execute_result"
    }
   ],
   "source": [
    "sentence_scores"
   ]
  },
  {
   "cell_type": "markdown",
   "id": "0d42ea18",
   "metadata": {},
   "source": [
    "# Text Summarization"
   ]
  },
  {
   "cell_type": "code",
   "execution_count": 11,
   "id": "2a775a87",
   "metadata": {},
   "outputs": [
    {
     "name": "stdout",
     "output_type": "stream",
     "text": [
      "in march, the un estimated that is still had \"5,000 to 7,000 members and supporters\" across iraq and neighbouring syria, \"roughly half of whom are fighters\". the then-prime minister, mustafa al-kadhimi, accused zawbaee of being the \"primary culprit\" behind that attack and \"many others\". a government source told afp news agency that ghazwan al-zawbaee, held to be the is mastermind behind the attack, was among those put to death. despite the group's defeat on the battlefield in iraq in 2017 and in syria two years later, it is estimated that thousands of militants remain active in both countries. on 3 july 2016 a vehicle filled with explosives was blown up next to a crowded shopping centre in karrada, a mainly shia muslim area of the iraqi capital.\n"
     ]
    }
   ],
   "source": [
    "# get top five sentences\n",
    "import heapq\n",
    "\n",
    "summary = heapq.nlargest(5, sentence_scores, key=sentence_scores.get)\n",
    "\n",
    "print(' '.join(summary))"
   ]
  },
  {
   "cell_type": "code",
   "execution_count": null,
   "id": "9ee0f7bf",
   "metadata": {},
   "outputs": [],
   "source": []
  }
 ],
 "metadata": {
  "kernelspec": {
   "display_name": "Python 3 (ipykernel)",
   "language": "python",
   "name": "python3"
  },
  "language_info": {
   "codemirror_mode": {
    "name": "ipython",
    "version": 3
   },
   "file_extension": ".py",
   "mimetype": "text/x-python",
   "name": "python",
   "nbconvert_exporter": "python",
   "pygments_lexer": "ipython3",
   "version": "3.10.9"
  }
 },
 "nbformat": 4,
 "nbformat_minor": 5
}
